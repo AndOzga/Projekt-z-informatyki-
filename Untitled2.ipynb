{
  "nbformat": 4,
  "nbformat_minor": 0,
  "metadata": {
    "colab": {
      "name": "Untitled2.ipynb",
      "provenance": [],
      "collapsed_sections": [],
      "authorship_tag": "ABX9TyNC1mDINTu5kPLMjdbkracB",
      "include_colab_link": true
    },
    "kernelspec": {
      "name": "python3",
      "display_name": "Python 3"
    }
  },
  "cells": [
    {
      "cell_type": "markdown",
      "metadata": {
        "id": "view-in-github",
        "colab_type": "text"
      },
      "source": [
        "<a href=\"https://colab.research.google.com/github/AndOzga/Projekt-z-informatyki-/blob/main/Untitled2.ipynb\" target=\"_parent\"><img src=\"https://colab.research.google.com/assets/colab-badge.svg\" alt=\"Open In Colab\"/></a>"
      ]
    },
    {
      "cell_type": "code",
      "metadata": {
        "id": "46lhR-meASIk"
      },
      "source": [
        "import matplotlib.pyplot as plt\r\n",
        "import numpy as np\r\n",
        "\r\n",
        "# Data for plotting\r\n",
        "x = np.arange(-2.0, 2.0, 0.01)\r\n",
        "y = x*x\r\n",
        "\r\n",
        "fig, ax = plt.subplots()\r\n",
        "ax.plot(x, y)\r\n",
        "\r\n",
        "ax.set(Xlabel='x', ylabel='y',\r\n",
        "       title='$y=x^2$')\r\n",
        "ax.grid()\r\n",
        "plt.show()"
      ],
      "execution_count": null,
      "outputs": []
    }
  ]
}